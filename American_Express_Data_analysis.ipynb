{
  "nbformat": 4,
  "nbformat_minor": 0,
  "metadata": {
    "colab": {
      "provenance": []
    },
    "kernelspec": {
      "name": "python3",
      "display_name": "Python 3"
    },
    "language_info": {
      "name": "python"
    }
  },
  "cells": [
    {
      "cell_type": "markdown",
      "source": [
        "# Deep Learning via ANN"
      ],
      "metadata": {
        "id": "i_Jn3_J-1zJS"
      }
    },
    {
      "cell_type": "markdown",
      "source": [
        "## Importing libraries"
      ],
      "metadata": {
        "id": "DSAsXOVd2J3t"
      }
    },
    {
      "cell_type": "code",
      "source": [
        "import numpy as np\n",
        "import pandas as pd\n",
        "import tensorflow as tf"
      ],
      "metadata": {
        "id": "kdpjbiA-15lT"
      },
      "execution_count": null,
      "outputs": []
    },
    {
      "cell_type": "code",
      "source": [
        "tf.__version__"
      ],
      "metadata": {
        "colab": {
          "base_uri": "https://localhost:8080/",
          "height": 36
        },
        "id": "YR063ST22SBU",
        "outputId": "7b08b91a-6708-45ca-cbe7-a1c4ea1297bd"
      },
      "execution_count": null,
      "outputs": [
        {
          "output_type": "execute_result",
          "data": {
            "text/plain": [
              "'2.15.0'"
            ],
            "application/vnd.google.colaboratory.intrinsic+json": {
              "type": "string"
            }
          },
          "metadata": {},
          "execution_count": 2
        }
      ]
    },
    {
      "cell_type": "markdown",
      "source": [
        "## importing datasets"
      ],
      "metadata": {
        "id": "rSsaswRT2avQ"
      }
    },
    {
      "cell_type": "code",
      "source": [
        "dataset = pd.read_csv('American Express User Exit.csv')\n",
        "X = dataset.iloc[:, 0:-1].values\n",
        "y = dataset.iloc[:, -1].values"
      ],
      "metadata": {
        "id": "03yLg1iw2e_I"
      },
      "execution_count": null,
      "outputs": []
    },
    {
      "cell_type": "code",
      "source": [
        "print(X)"
      ],
      "metadata": {
        "colab": {
          "base_uri": "https://localhost:8080/"
        },
        "id": "CBNh3PFb20no",
        "outputId": "dbc47c45-60f9-4cb2-eced-d324f07bb5c6"
      },
      "execution_count": null,
      "outputs": [
        {
          "output_type": "stream",
          "name": "stdout",
          "text": [
            "[[553 'Delhi' 'Female' ... 4 1 274150]\n",
            " [447 'Bengaluru' 'Male' ... 4 1 519360]\n",
            " [501 'Delhi' 'Female' ... 4 1 545501]\n",
            " ...\n",
            " [627 'Mumbai' 'Female' ... 4 0 494067]\n",
            " [600 'Bengaluru' 'Female' ... 2 1 109375]\n",
            " [553 'Delhi' 'Male' ... 4 1 180031]]\n"
          ]
        }
      ]
    },
    {
      "cell_type": "markdown",
      "metadata": {
        "id": "Q_e8LuHYyX5r"
      },
      "source": [
        "## Encoding categorical data"
      ]
    },
    {
      "cell_type": "markdown",
      "metadata": {
        "id": "NFKMHJzhy4pE"
      },
      "source": [
        "### Gender column : Label Encoding"
      ]
    },
    {
      "cell_type": "code",
      "source": [
        "from sklearn.preprocessing import LabelEncoder\n",
        "label_encoder = LabelEncoder()\n",
        "X[:, 2] = label_encoder.fit_transform(X[:, 2])"
      ],
      "metadata": {
        "id": "S61Wro2_2_Wd"
      },
      "execution_count": null,
      "outputs": []
    },
    {
      "cell_type": "code",
      "source": [
        "print(X)"
      ],
      "metadata": {
        "colab": {
          "base_uri": "https://localhost:8080/"
        },
        "id": "vel9Pocb3KjG",
        "outputId": "ad0fbf8f-b0f6-482f-f2b9-6966c12a91ff"
      },
      "execution_count": null,
      "outputs": [
        {
          "output_type": "stream",
          "name": "stdout",
          "text": [
            "[[553 'Delhi' 0 ... 4 1 274150]\n",
            " [447 'Bengaluru' 1 ... 4 1 519360]\n",
            " [501 'Delhi' 0 ... 4 1 545501]\n",
            " ...\n",
            " [627 'Mumbai' 0 ... 4 0 494067]\n",
            " [600 'Bengaluru' 0 ... 2 1 109375]\n",
            " [553 'Delhi' 1 ... 4 1 180031]]\n"
          ]
        }
      ]
    },
    {
      "cell_type": "markdown",
      "metadata": {
        "id": "W27VpQo7zRUo"
      },
      "source": [
        "### Geography column : One hot Encoding"
      ]
    },
    {
      "cell_type": "code",
      "source": [
        "from sklearn.compose import ColumnTransformer\n",
        "from sklearn.preprocessing import OneHotEncoder\n",
        "ct = ColumnTransformer(transformers=[('encoder', OneHotEncoder(), [1])], remainder='passthrough')\n",
        "X = np.array(ct.fit_transform(X))"
      ],
      "metadata": {
        "id": "ZEnmKpTO3Zdg"
      },
      "execution_count": null,
      "outputs": []
    },
    {
      "cell_type": "code",
      "source": [
        "print(X)"
      ],
      "metadata": {
        "colab": {
          "base_uri": "https://localhost:8080/"
        },
        "id": "_kkbn1st3gIu",
        "outputId": "3622b82e-7970-40b6-c75d-af2faf308a31"
      },
      "execution_count": null,
      "outputs": [
        {
          "output_type": "stream",
          "name": "stdout",
          "text": [
            "[[0.0 1.0 0.0 ... 4 1 274150]\n",
            " [1.0 0.0 0.0 ... 4 1 519360]\n",
            " [0.0 1.0 0.0 ... 4 1 545501]\n",
            " ...\n",
            " [0.0 0.0 1.0 ... 4 0 494067]\n",
            " [1.0 0.0 0.0 ... 2 1 109375]\n",
            " [0.0 1.0 0.0 ... 4 1 180031]]\n"
          ]
        }
      ]
    },
    {
      "cell_type": "markdown",
      "metadata": {
        "id": "8REFJFGC0lRN"
      },
      "source": [
        "## Splitting dataset into Training & Test set"
      ]
    },
    {
      "cell_type": "code",
      "source": [
        "from sklearn.model_selection import train_test_split\n",
        "X_train, X_test, y_train, y_test = train_test_split(X, y, test_size = 0.2, random_state = 0)"
      ],
      "metadata": {
        "id": "iqFebyfw3mfE"
      },
      "execution_count": null,
      "outputs": []
    },
    {
      "cell_type": "markdown",
      "metadata": {
        "id": "9WJ3OvMf2Mpz"
      },
      "source": [
        "## Feature Scaling"
      ]
    },
    {
      "cell_type": "code",
      "metadata": {
        "id": "_lPukZ7C2PYR"
      },
      "source": [
        "from sklearn.preprocessing import StandardScaler\n",
        "sc = StandardScaler()\n",
        "X_train = sc.fit_transform(X_train)\n",
        "X_test = sc.transform(X_test)"
      ],
      "execution_count": null,
      "outputs": []
    },
    {
      "cell_type": "markdown",
      "metadata": {
        "id": "2QUFYaoH00H6"
      },
      "source": [
        "## ANN"
      ]
    },
    {
      "cell_type": "markdown",
      "metadata": {
        "id": "fmmakWMe2Xe0"
      },
      "source": [
        "### Initialization"
      ]
    },
    {
      "cell_type": "code",
      "metadata": {
        "id": "2iFA5Qkn49UW"
      },
      "source": [
        "ann = tf.keras.models.Sequential()"
      ],
      "execution_count": null,
      "outputs": []
    },
    {
      "cell_type": "markdown",
      "metadata": {
        "id": "oZs3tLKX2a0c"
      },
      "source": [
        "### Adding input layer and first hidden layer"
      ]
    },
    {
      "cell_type": "code",
      "metadata": {
        "id": "BqUEsAVP5Gp7"
      },
      "source": [
        "ann.add(tf.keras.layers.Dense(units=6, activation='relu'))"
      ],
      "execution_count": null,
      "outputs": []
    },
    {
      "cell_type": "markdown",
      "metadata": {
        "id": "3VMq7Dzx2inS"
      },
      "source": [
        "### Adding second hidden layer"
      ]
    },
    {
      "cell_type": "code",
      "metadata": {
        "id": "5iqN64Qb5XpM"
      },
      "source": [
        "ann.add(tf.keras.layers.Dense(units=6, activation='relu'))"
      ],
      "execution_count": null,
      "outputs": []
    },
    {
      "cell_type": "markdown",
      "metadata": {
        "id": "rf0PPM2O2mY4"
      },
      "source": [
        "### Adding output layer"
      ]
    },
    {
      "cell_type": "code",
      "metadata": {
        "id": "16bVnSmy5izv"
      },
      "source": [
        "ann.add(tf.keras.layers.Dense(units=1, activation='sigmoid'))"
      ],
      "execution_count": null,
      "outputs": []
    },
    {
      "cell_type": "markdown",
      "metadata": {
        "id": "-Dw4Khi70u9g"
      },
      "source": [
        "## ANN Training"
      ]
    },
    {
      "cell_type": "markdown",
      "metadata": {
        "id": "3DGW0tMz6vZF"
      },
      "source": [
        "### Compiling ANN"
      ]
    },
    {
      "cell_type": "code",
      "metadata": {
        "id": "qpRleG206-Cy"
      },
      "source": [
        "ann.compile(optimizer = 'adam', loss = 'binary_crossentropy', metrics = ['accuracy'])"
      ],
      "execution_count": null,
      "outputs": []
    },
    {
      "cell_type": "markdown",
      "metadata": {
        "id": "JcIyviNr2tiO"
      },
      "source": [
        "### Training on training dataset"
      ]
    },
    {
      "cell_type": "code",
      "metadata": {
        "colab": {
          "base_uri": "https://localhost:8080/"
        },
        "id": "U411c0oi5pGF",
        "outputId": "7419e2d4-5b4c-4e5b-e12a-7d82f8d4e5fe"
      },
      "source": [
        "ann.fit(X_train, y_train, batch_size = 32, epochs = 120)"
      ],
      "execution_count": null,
      "outputs": [
        {
          "output_type": "stream",
          "name": "stdout",
          "text": [
            "Epoch 1/120\n",
            "249/249 [==============================] - 1s 2ms/step - loss: 0.5332 - accuracy: 0.7884\n",
            "Epoch 2/120\n",
            "249/249 [==============================] - 0s 2ms/step - loss: 0.4622 - accuracy: 0.7966\n",
            "Epoch 3/120\n",
            "249/249 [==============================] - 0s 2ms/step - loss: 0.4388 - accuracy: 0.7975\n",
            "Epoch 4/120\n",
            "249/249 [==============================] - 0s 2ms/step - loss: 0.4248 - accuracy: 0.8036\n",
            "Epoch 5/120\n",
            "249/249 [==============================] - 0s 2ms/step - loss: 0.4166 - accuracy: 0.8130\n",
            "Epoch 6/120\n",
            "249/249 [==============================] - 0s 2ms/step - loss: 0.4106 - accuracy: 0.8168\n",
            "Epoch 7/120\n",
            "249/249 [==============================] - 0s 2ms/step - loss: 0.4060 - accuracy: 0.8203\n",
            "Epoch 8/120\n",
            "249/249 [==============================] - 0s 2ms/step - loss: 0.4024 - accuracy: 0.8228\n",
            "Epoch 9/120\n",
            "249/249 [==============================] - 0s 2ms/step - loss: 0.3996 - accuracy: 0.8250\n",
            "Epoch 10/120\n",
            "249/249 [==============================] - 0s 2ms/step - loss: 0.3977 - accuracy: 0.8256\n",
            "Epoch 11/120\n",
            "249/249 [==============================] - 0s 2ms/step - loss: 0.3957 - accuracy: 0.8248\n",
            "Epoch 12/120\n",
            "249/249 [==============================] - 0s 2ms/step - loss: 0.3939 - accuracy: 0.8258\n",
            "Epoch 13/120\n",
            "249/249 [==============================] - 0s 2ms/step - loss: 0.3925 - accuracy: 0.8271\n",
            "Epoch 14/120\n",
            "249/249 [==============================] - 0s 2ms/step - loss: 0.3909 - accuracy: 0.8292\n",
            "Epoch 15/120\n",
            "249/249 [==============================] - 0s 2ms/step - loss: 0.3898 - accuracy: 0.8265\n",
            "Epoch 16/120\n",
            "249/249 [==============================] - 0s 2ms/step - loss: 0.3886 - accuracy: 0.8277\n",
            "Epoch 17/120\n",
            "249/249 [==============================] - 0s 2ms/step - loss: 0.3875 - accuracy: 0.8302\n",
            "Epoch 18/120\n",
            "249/249 [==============================] - 0s 2ms/step - loss: 0.3867 - accuracy: 0.8305\n",
            "Epoch 19/120\n",
            "249/249 [==============================] - 0s 2ms/step - loss: 0.3860 - accuracy: 0.8329\n",
            "Epoch 20/120\n",
            "249/249 [==============================] - 1s 2ms/step - loss: 0.3849 - accuracy: 0.8328\n",
            "Epoch 21/120\n",
            "249/249 [==============================] - 1s 3ms/step - loss: 0.3846 - accuracy: 0.8342\n",
            "Epoch 22/120\n",
            "249/249 [==============================] - 1s 3ms/step - loss: 0.3833 - accuracy: 0.8340\n",
            "Epoch 23/120\n",
            "249/249 [==============================] - 1s 2ms/step - loss: 0.3825 - accuracy: 0.8342\n",
            "Epoch 24/120\n",
            "249/249 [==============================] - 0s 2ms/step - loss: 0.3818 - accuracy: 0.8358\n",
            "Epoch 25/120\n",
            "249/249 [==============================] - 0s 2ms/step - loss: 0.3814 - accuracy: 0.8354\n",
            "Epoch 26/120\n",
            "249/249 [==============================] - 0s 2ms/step - loss: 0.3808 - accuracy: 0.8353\n",
            "Epoch 27/120\n",
            "249/249 [==============================] - 0s 2ms/step - loss: 0.3801 - accuracy: 0.8363\n",
            "Epoch 28/120\n",
            "249/249 [==============================] - 0s 2ms/step - loss: 0.3794 - accuracy: 0.8367\n",
            "Epoch 29/120\n",
            "249/249 [==============================] - 0s 2ms/step - loss: 0.3794 - accuracy: 0.8378\n",
            "Epoch 30/120\n",
            "249/249 [==============================] - 0s 2ms/step - loss: 0.3783 - accuracy: 0.8373\n",
            "Epoch 31/120\n",
            "249/249 [==============================] - 0s 2ms/step - loss: 0.3779 - accuracy: 0.8381\n",
            "Epoch 32/120\n",
            "249/249 [==============================] - 0s 2ms/step - loss: 0.3775 - accuracy: 0.8383\n",
            "Epoch 33/120\n",
            "249/249 [==============================] - 0s 2ms/step - loss: 0.3768 - accuracy: 0.8389\n",
            "Epoch 34/120\n",
            "249/249 [==============================] - 0s 2ms/step - loss: 0.3759 - accuracy: 0.8404\n",
            "Epoch 35/120\n",
            "249/249 [==============================] - 0s 2ms/step - loss: 0.3758 - accuracy: 0.8407\n",
            "Epoch 36/120\n",
            "249/249 [==============================] - 0s 2ms/step - loss: 0.3746 - accuracy: 0.8401\n",
            "Epoch 37/120\n",
            "249/249 [==============================] - 0s 2ms/step - loss: 0.3741 - accuracy: 0.8393\n",
            "Epoch 38/120\n",
            "249/249 [==============================] - 0s 2ms/step - loss: 0.3736 - accuracy: 0.8410\n",
            "Epoch 39/120\n",
            "249/249 [==============================] - 0s 2ms/step - loss: 0.3729 - accuracy: 0.8386\n",
            "Epoch 40/120\n",
            "249/249 [==============================] - 0s 2ms/step - loss: 0.3726 - accuracy: 0.8381\n",
            "Epoch 41/120\n",
            "249/249 [==============================] - 0s 2ms/step - loss: 0.3721 - accuracy: 0.8427\n",
            "Epoch 42/120\n",
            "249/249 [==============================] - 0s 2ms/step - loss: 0.3712 - accuracy: 0.8408\n",
            "Epoch 43/120\n",
            "249/249 [==============================] - 0s 2ms/step - loss: 0.3705 - accuracy: 0.8420\n",
            "Epoch 44/120\n",
            "249/249 [==============================] - 0s 2ms/step - loss: 0.3700 - accuracy: 0.8408\n",
            "Epoch 45/120\n",
            "249/249 [==============================] - 0s 2ms/step - loss: 0.3694 - accuracy: 0.8398\n",
            "Epoch 46/120\n",
            "249/249 [==============================] - 1s 2ms/step - loss: 0.3688 - accuracy: 0.8431\n",
            "Epoch 47/120\n",
            "249/249 [==============================] - 1s 2ms/step - loss: 0.3682 - accuracy: 0.8421\n",
            "Epoch 48/120\n",
            "249/249 [==============================] - 1s 2ms/step - loss: 0.3676 - accuracy: 0.8412\n",
            "Epoch 49/120\n",
            "249/249 [==============================] - 1s 3ms/step - loss: 0.3667 - accuracy: 0.8426\n",
            "Epoch 50/120\n",
            "249/249 [==============================] - 0s 2ms/step - loss: 0.3670 - accuracy: 0.8430\n",
            "Epoch 51/120\n",
            "249/249 [==============================] - 0s 2ms/step - loss: 0.3655 - accuracy: 0.8435\n",
            "Epoch 52/120\n",
            "249/249 [==============================] - 0s 2ms/step - loss: 0.3647 - accuracy: 0.8418\n",
            "Epoch 53/120\n",
            "249/249 [==============================] - 1s 2ms/step - loss: 0.3643 - accuracy: 0.8420\n",
            "Epoch 54/120\n",
            "249/249 [==============================] - 1s 3ms/step - loss: 0.3634 - accuracy: 0.8450\n",
            "Epoch 55/120\n",
            "249/249 [==============================] - 1s 3ms/step - loss: 0.3625 - accuracy: 0.8428\n",
            "Epoch 56/120\n",
            "249/249 [==============================] - 1s 3ms/step - loss: 0.3618 - accuracy: 0.8441\n",
            "Epoch 57/120\n",
            "249/249 [==============================] - 0s 2ms/step - loss: 0.3617 - accuracy: 0.8446\n",
            "Epoch 58/120\n",
            "249/249 [==============================] - 0s 2ms/step - loss: 0.3610 - accuracy: 0.8449\n",
            "Epoch 59/120\n",
            "249/249 [==============================] - 0s 2ms/step - loss: 0.3596 - accuracy: 0.8452\n",
            "Epoch 60/120\n",
            "249/249 [==============================] - 0s 2ms/step - loss: 0.3591 - accuracy: 0.8456\n",
            "Epoch 61/120\n",
            "249/249 [==============================] - 0s 2ms/step - loss: 0.3593 - accuracy: 0.8465\n",
            "Epoch 62/120\n",
            "249/249 [==============================] - 0s 2ms/step - loss: 0.3583 - accuracy: 0.8457\n",
            "Epoch 63/120\n",
            "249/249 [==============================] - 0s 2ms/step - loss: 0.3579 - accuracy: 0.8474\n",
            "Epoch 64/120\n",
            "249/249 [==============================] - 0s 2ms/step - loss: 0.3567 - accuracy: 0.8469\n",
            "Epoch 65/120\n",
            "249/249 [==============================] - 0s 2ms/step - loss: 0.3563 - accuracy: 0.8471\n",
            "Epoch 66/120\n",
            "249/249 [==============================] - 0s 2ms/step - loss: 0.3556 - accuracy: 0.8491\n",
            "Epoch 67/120\n",
            "249/249 [==============================] - 0s 2ms/step - loss: 0.3554 - accuracy: 0.8484\n",
            "Epoch 68/120\n",
            "249/249 [==============================] - 0s 2ms/step - loss: 0.3550 - accuracy: 0.8498\n",
            "Epoch 69/120\n",
            "249/249 [==============================] - 0s 2ms/step - loss: 0.3545 - accuracy: 0.8479\n",
            "Epoch 70/120\n",
            "249/249 [==============================] - 0s 2ms/step - loss: 0.3541 - accuracy: 0.8480\n",
            "Epoch 71/120\n",
            "249/249 [==============================] - 1s 3ms/step - loss: 0.3541 - accuracy: 0.8495\n",
            "Epoch 72/120\n",
            "249/249 [==============================] - 1s 3ms/step - loss: 0.3535 - accuracy: 0.8489\n",
            "Epoch 73/120\n",
            "249/249 [==============================] - 1s 3ms/step - loss: 0.3532 - accuracy: 0.8479\n",
            "Epoch 74/120\n",
            "249/249 [==============================] - 1s 2ms/step - loss: 0.3530 - accuracy: 0.8498\n",
            "Epoch 75/120\n",
            "249/249 [==============================] - 0s 2ms/step - loss: 0.3525 - accuracy: 0.8489\n",
            "Epoch 76/120\n",
            "249/249 [==============================] - 0s 2ms/step - loss: 0.3529 - accuracy: 0.8498\n",
            "Epoch 77/120\n",
            "249/249 [==============================] - 0s 2ms/step - loss: 0.3520 - accuracy: 0.8498\n",
            "Epoch 78/120\n",
            "249/249 [==============================] - 0s 2ms/step - loss: 0.3524 - accuracy: 0.8499\n",
            "Epoch 79/120\n",
            "249/249 [==============================] - 0s 2ms/step - loss: 0.3519 - accuracy: 0.8498\n",
            "Epoch 80/120\n",
            "249/249 [==============================] - 0s 2ms/step - loss: 0.3514 - accuracy: 0.8496\n",
            "Epoch 81/120\n",
            "249/249 [==============================] - 0s 2ms/step - loss: 0.3516 - accuracy: 0.8486\n",
            "Epoch 82/120\n",
            "249/249 [==============================] - 0s 2ms/step - loss: 0.3514 - accuracy: 0.8498\n",
            "Epoch 83/120\n",
            "249/249 [==============================] - 0s 2ms/step - loss: 0.3514 - accuracy: 0.8515\n",
            "Epoch 84/120\n",
            "249/249 [==============================] - 0s 2ms/step - loss: 0.3504 - accuracy: 0.8509\n",
            "Epoch 85/120\n",
            "249/249 [==============================] - 0s 2ms/step - loss: 0.3505 - accuracy: 0.8508\n",
            "Epoch 86/120\n",
            "249/249 [==============================] - 0s 2ms/step - loss: 0.3508 - accuracy: 0.8494\n",
            "Epoch 87/120\n",
            "249/249 [==============================] - 0s 2ms/step - loss: 0.3504 - accuracy: 0.8499\n",
            "Epoch 88/120\n",
            "249/249 [==============================] - 0s 2ms/step - loss: 0.3500 - accuracy: 0.8530\n",
            "Epoch 89/120\n",
            "249/249 [==============================] - 0s 2ms/step - loss: 0.3503 - accuracy: 0.8506\n",
            "Epoch 90/120\n",
            "249/249 [==============================] - 0s 2ms/step - loss: 0.3505 - accuracy: 0.8530\n",
            "Epoch 91/120\n",
            "249/249 [==============================] - 0s 2ms/step - loss: 0.3501 - accuracy: 0.8525\n",
            "Epoch 92/120\n",
            "249/249 [==============================] - 0s 2ms/step - loss: 0.3497 - accuracy: 0.8533\n",
            "Epoch 93/120\n",
            "249/249 [==============================] - 0s 2ms/step - loss: 0.3500 - accuracy: 0.8517\n",
            "Epoch 94/120\n",
            "249/249 [==============================] - 0s 2ms/step - loss: 0.3495 - accuracy: 0.8523\n",
            "Epoch 95/120\n",
            "249/249 [==============================] - 0s 2ms/step - loss: 0.3495 - accuracy: 0.8522\n",
            "Epoch 96/120\n",
            "249/249 [==============================] - 0s 2ms/step - loss: 0.3492 - accuracy: 0.8525\n",
            "Epoch 97/120\n",
            "249/249 [==============================] - 0s 2ms/step - loss: 0.3492 - accuracy: 0.8523\n",
            "Epoch 98/120\n",
            "249/249 [==============================] - 1s 2ms/step - loss: 0.3491 - accuracy: 0.8549\n",
            "Epoch 99/120\n",
            "249/249 [==============================] - 1s 2ms/step - loss: 0.3497 - accuracy: 0.8529\n",
            "Epoch 100/120\n",
            "249/249 [==============================] - 1s 2ms/step - loss: 0.3489 - accuracy: 0.8535\n",
            "Epoch 101/120\n",
            "249/249 [==============================] - 1s 2ms/step - loss: 0.3490 - accuracy: 0.8533\n",
            "Epoch 102/120\n",
            "249/249 [==============================] - 0s 2ms/step - loss: 0.3484 - accuracy: 0.8534\n",
            "Epoch 103/120\n",
            "249/249 [==============================] - 0s 2ms/step - loss: 0.3489 - accuracy: 0.8532\n",
            "Epoch 104/120\n",
            "249/249 [==============================] - 0s 2ms/step - loss: 0.3486 - accuracy: 0.8522\n",
            "Epoch 105/120\n",
            "249/249 [==============================] - 0s 2ms/step - loss: 0.3485 - accuracy: 0.8543\n",
            "Epoch 106/120\n",
            "249/249 [==============================] - 0s 2ms/step - loss: 0.3488 - accuracy: 0.8533\n",
            "Epoch 107/120\n",
            "249/249 [==============================] - 0s 2ms/step - loss: 0.3481 - accuracy: 0.8528\n",
            "Epoch 108/120\n",
            "249/249 [==============================] - 0s 2ms/step - loss: 0.3482 - accuracy: 0.8530\n",
            "Epoch 109/120\n",
            "249/249 [==============================] - 0s 2ms/step - loss: 0.3482 - accuracy: 0.8530\n",
            "Epoch 110/120\n",
            "249/249 [==============================] - 0s 2ms/step - loss: 0.3485 - accuracy: 0.8525\n",
            "Epoch 111/120\n",
            "249/249 [==============================] - 0s 2ms/step - loss: 0.3486 - accuracy: 0.8549\n",
            "Epoch 112/120\n",
            "249/249 [==============================] - 0s 2ms/step - loss: 0.3476 - accuracy: 0.8546\n",
            "Epoch 113/120\n",
            "249/249 [==============================] - 0s 2ms/step - loss: 0.3483 - accuracy: 0.8539\n",
            "Epoch 114/120\n",
            "249/249 [==============================] - 0s 2ms/step - loss: 0.3479 - accuracy: 0.8534\n",
            "Epoch 115/120\n",
            "249/249 [==============================] - 0s 2ms/step - loss: 0.3484 - accuracy: 0.8522\n",
            "Epoch 116/120\n",
            "249/249 [==============================] - 0s 2ms/step - loss: 0.3478 - accuracy: 0.8520\n",
            "Epoch 117/120\n",
            "249/249 [==============================] - 0s 2ms/step - loss: 0.3471 - accuracy: 0.8523\n",
            "Epoch 118/120\n",
            "249/249 [==============================] - 0s 2ms/step - loss: 0.3470 - accuracy: 0.8547\n",
            "Epoch 119/120\n",
            "249/249 [==============================] - 0s 2ms/step - loss: 0.3478 - accuracy: 0.8528\n",
            "Epoch 120/120\n",
            "249/249 [==============================] - 0s 2ms/step - loss: 0.3475 - accuracy: 0.8517\n"
          ]
        },
        {
          "output_type": "execute_result",
          "data": {
            "text/plain": [
              "<keras.src.callbacks.History at 0x78bd97634a00>"
            ]
          },
          "metadata": {},
          "execution_count": 18
        }
      ]
    },
    {
      "cell_type": "markdown",
      "metadata": {
        "id": "YDjEXibj22y8"
      },
      "source": [
        "# Predictions"
      ]
    },
    {
      "cell_type": "markdown",
      "metadata": {
        "id": "8KQtJPsR28Km"
      },
      "source": [
        "### Single Prediction"
      ]
    },
    {
      "cell_type": "code",
      "metadata": {
        "id": "u33xFIS23KtS",
        "colab": {
          "base_uri": "https://localhost:8080/"
        },
        "outputId": "cf4c2b0c-8737-4b6c-8666-d56d108e01a4"
      },
      "source": [
        "print(ann.predict(sc.transform([[0.0, 1.0, 0.0, 501, 0, 32, 2, 0.0, 4, 1, 545501]])) > 0.5)"
      ],
      "execution_count": null,
      "outputs": [
        {
          "output_type": "stream",
          "name": "stdout",
          "text": [
            "1/1 [==============================] - 0s 82ms/step\n",
            "[[False]]\n"
          ]
        }
      ]
    },
    {
      "cell_type": "markdown",
      "metadata": {
        "id": "0HxpzoQo2_Gf"
      },
      "source": [
        "### Predication on testset"
      ]
    },
    {
      "cell_type": "code",
      "metadata": {
        "id": "tUCnLY6e3Imj",
        "colab": {
          "base_uri": "https://localhost:8080/"
        },
        "outputId": "1d63d919-c30a-401a-bf2e-5e7a12da9ba2"
      },
      "source": [
        "y_pred = ann.predict(X_test)\n",
        "y_pred = (y_pred > 0.5)\n",
        "print(np.concatenate((y_pred.reshape(len(y_pred),1), y_test.reshape(len(y_test),1)),1))"
      ],
      "execution_count": null,
      "outputs": [
        {
          "output_type": "stream",
          "name": "stdout",
          "text": [
            "63/63 [==============================] - 0s 1ms/step\n",
            "[[0 1]\n",
            " [0 0]\n",
            " [0 0]\n",
            " ...\n",
            " [0 1]\n",
            " [0 0]\n",
            " [1 1]]\n"
          ]
        }
      ]
    },
    {
      "cell_type": "markdown",
      "metadata": {
        "id": "_YpFOI9d3C-5"
      },
      "source": [
        "### Confusion Matrix"
      ]
    },
    {
      "cell_type": "code",
      "metadata": {
        "id": "UYvqw6qvy5J4",
        "colab": {
          "base_uri": "https://localhost:8080/"
        },
        "outputId": "c3db580f-9ec8-4dfd-c361-e5c00284de66"
      },
      "source": [
        "from sklearn.metrics import confusion_matrix, accuracy_score\n",
        "cm = confusion_matrix(y_test, y_pred)\n",
        "print(cm)\n",
        "accuracy_score(y_test, y_pred)"
      ],
      "execution_count": null,
      "outputs": [
        {
          "output_type": "stream",
          "name": "stdout",
          "text": [
            "[[1499   74]\n",
            " [ 213  200]]\n"
          ]
        },
        {
          "output_type": "execute_result",
          "data": {
            "text/plain": [
              "0.8554884189325277"
            ]
          },
          "metadata": {},
          "execution_count": 21
        }
      ]
    },
    {
      "cell_type": "code",
      "source": [
        "from google.colab import drive\n",
        "drive.mount('/content/drive')"
      ],
      "metadata": {
        "id": "RD70eIS1gFfr"
      },
      "execution_count": null,
      "outputs": []
    }
  ]
}